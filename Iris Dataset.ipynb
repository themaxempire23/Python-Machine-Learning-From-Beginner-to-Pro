{
 "cells": [
  {
   "cell_type": "markdown",
   "metadata": {},
   "source": [
    "# Checking the version of Libraries\n",
    "# Python version"
   ]
  },
  {
   "cell_type": "code",
   "execution_count": 1,
   "metadata": {},
   "outputs": [
    {
     "name": "stdout",
     "output_type": "stream",
     "text": [
      "Python: 3.12.7 | packaged by Anaconda, Inc. | (main, Oct  4 2024, 13:17:27) [MSC v.1929 64 bit (AMD64)]\n"
     ]
    }
   ],
   "source": [
    "import sys\n",
    "print('Python: {}'.format(sys.version))"
   ]
  },
  {
   "cell_type": "code",
   "execution_count": 7,
   "metadata": {},
   "outputs": [
    {
     "name": "stdout",
     "output_type": "stream",
     "text": [
      "Python: 3.12.7 | packaged by Anaconda, Inc. | (main, Oct  4 2024, 13:17:27) [MSC v.1929 64 bit (AMD64)]\n",
      "scipy 1.13.1\n",
      "numpy 1.26.4\n",
      "matplotlib 3.9.2\n",
      "pandas 2.2.2\n",
      "sklearn 1.5.1\n"
     ]
    }
   ],
   "source": [
    "import sys\n",
    "print('Python: {}'.format(sys.version))\n",
    "\n",
    "# scipy\n",
    "import scipy\n",
    "print('scipy {}'.format(scipy.__version__))\n",
    "\n",
    "# numpy\n",
    "import numpy\n",
    "print('numpy {}'.format(numpy.__version__))\n",
    "\n",
    "# matplotlib\n",
    "import matplotlib\n",
    "print('matplotlib {}'.format(matplotlib.__version__))\n",
    "\n",
    "# pandas\n",
    "import pandas\n",
    "print('pandas {}'.format(pandas.__version__))\n",
    "\n",
    "# sklearn\n",
    "import sklearn\n",
    "print('sklearn {}'.format(sklearn.__version__))\n"
   ]
  },
  {
   "cell_type": "markdown",
   "metadata": {},
   "source": []
  },
  {
   "cell_type": "markdown",
   "metadata": {},
   "source": [
    "# Loading Libraries"
   ]
  },
  {
   "cell_type": "code",
   "execution_count": 12,
   "metadata": {},
   "outputs": [],
   "source": [
    "import pandas\n",
    "import pandas.plotting\n",
    "import sklearn.neighbors \n",
    "from pandas.plotting import scatter_matrix\n",
    "import matplotlib.pyplot as plt\n",
    "from sklearn import model_selection\n",
    "from sklearn.metrics import classification_report\n",
    "from sklearn.metrics import confusion_matrix\n",
    "from sklearn.metrics import accuracy_score\n",
    "from sklearn.linear_model import LogisticRegression\n",
    "from sklearn.tree import DecisionTreeClassifier\n",
    "from sklearn.neighbors import KNeighborsClassifier\n",
    "from sklearn.discriminant_analysis import LinearDiscriminantAnalysis\n",
    "from sklearn.naive_bayes import GaussianNB\n",
    "from sklearn.svm import SVC"
   ]
  },
  {
   "cell_type": "code",
   "execution_count": 21,
   "metadata": {},
   "outputs": [],
   "source": [
    "url= \"https://archive.ics.uci.edu/ml/machine-learning-databases/iris/iris.data\"\n",
    "names = ['sepal-area', 'sepal-width', 'petal-length', 'petal-width', 'class', 'description']\n",
    "dataset = pandas.read_csv(url, names=names)"
   ]
  },
  {
   "cell_type": "code",
   "execution_count": 22,
   "metadata": {},
   "outputs": [
    {
     "name": "stdout",
     "output_type": "stream",
     "text": [
      "(150, 6)\n"
     ]
    }
   ],
   "source": [
    "print(dataset.shape)"
   ]
  },
  {
   "cell_type": "code",
   "execution_count": 23,
   "metadata": {},
   "outputs": [
    {
     "name": "stdout",
     "output_type": "stream",
     "text": [
      "    sepal-area  sepal-width  petal-length  petal-width        class  \\\n",
      "0          5.1          3.5           1.4          0.2  Iris-setosa   \n",
      "1          4.9          3.0           1.4          0.2  Iris-setosa   \n",
      "2          4.7          3.2           1.3          0.2  Iris-setosa   \n",
      "3          4.6          3.1           1.5          0.2  Iris-setosa   \n",
      "4          5.0          3.6           1.4          0.2  Iris-setosa   \n",
      "5          5.4          3.9           1.7          0.4  Iris-setosa   \n",
      "6          4.6          3.4           1.4          0.3  Iris-setosa   \n",
      "7          5.0          3.4           1.5          0.2  Iris-setosa   \n",
      "8          4.4          2.9           1.4          0.2  Iris-setosa   \n",
      "9          4.9          3.1           1.5          0.1  Iris-setosa   \n",
      "10         5.4          3.7           1.5          0.2  Iris-setosa   \n",
      "11         4.8          3.4           1.6          0.2  Iris-setosa   \n",
      "12         4.8          3.0           1.4          0.1  Iris-setosa   \n",
      "13         4.3          3.0           1.1          0.1  Iris-setosa   \n",
      "14         5.8          4.0           1.2          0.2  Iris-setosa   \n",
      "15         5.7          4.4           1.5          0.4  Iris-setosa   \n",
      "16         5.4          3.9           1.3          0.4  Iris-setosa   \n",
      "17         5.1          3.5           1.4          0.3  Iris-setosa   \n",
      "18         5.7          3.8           1.7          0.3  Iris-setosa   \n",
      "19         5.1          3.8           1.5          0.3  Iris-setosa   \n",
      "20         5.4          3.4           1.7          0.2  Iris-setosa   \n",
      "21         5.1          3.7           1.5          0.4  Iris-setosa   \n",
      "22         4.6          3.6           1.0          0.2  Iris-setosa   \n",
      "23         5.1          3.3           1.7          0.5  Iris-setosa   \n",
      "24         4.8          3.4           1.9          0.2  Iris-setosa   \n",
      "25         5.0          3.0           1.6          0.2  Iris-setosa   \n",
      "26         5.0          3.4           1.6          0.4  Iris-setosa   \n",
      "27         5.2          3.5           1.5          0.2  Iris-setosa   \n",
      "28         5.2          3.4           1.4          0.2  Iris-setosa   \n",
      "29         4.7          3.2           1.6          0.2  Iris-setosa   \n",
      "30         4.8          3.1           1.6          0.2  Iris-setosa   \n",
      "31         5.4          3.4           1.5          0.4  Iris-setosa   \n",
      "32         5.2          4.1           1.5          0.1  Iris-setosa   \n",
      "33         5.5          4.2           1.4          0.2  Iris-setosa   \n",
      "34         4.9          3.1           1.5          0.1  Iris-setosa   \n",
      "35         5.0          3.2           1.2          0.2  Iris-setosa   \n",
      "36         5.5          3.5           1.3          0.2  Iris-setosa   \n",
      "37         4.9          3.1           1.5          0.1  Iris-setosa   \n",
      "38         4.4          3.0           1.3          0.2  Iris-setosa   \n",
      "39         5.1          3.4           1.5          0.2  Iris-setosa   \n",
      "40         5.0          3.5           1.3          0.3  Iris-setosa   \n",
      "41         4.5          2.3           1.3          0.3  Iris-setosa   \n",
      "42         4.4          3.2           1.3          0.2  Iris-setosa   \n",
      "43         5.0          3.5           1.6          0.6  Iris-setosa   \n",
      "44         5.1          3.8           1.9          0.4  Iris-setosa   \n",
      "45         4.8          3.0           1.4          0.3  Iris-setosa   \n",
      "46         5.1          3.8           1.6          0.2  Iris-setosa   \n",
      "47         4.6          3.2           1.4          0.2  Iris-setosa   \n",
      "48         5.3          3.7           1.5          0.2  Iris-setosa   \n",
      "49         5.0          3.3           1.4          0.2  Iris-setosa   \n",
      "\n",
      "    description  \n",
      "0           NaN  \n",
      "1           NaN  \n",
      "2           NaN  \n",
      "3           NaN  \n",
      "4           NaN  \n",
      "5           NaN  \n",
      "6           NaN  \n",
      "7           NaN  \n",
      "8           NaN  \n",
      "9           NaN  \n",
      "10          NaN  \n",
      "11          NaN  \n",
      "12          NaN  \n",
      "13          NaN  \n",
      "14          NaN  \n",
      "15          NaN  \n",
      "16          NaN  \n",
      "17          NaN  \n",
      "18          NaN  \n",
      "19          NaN  \n",
      "20          NaN  \n",
      "21          NaN  \n",
      "22          NaN  \n",
      "23          NaN  \n",
      "24          NaN  \n",
      "25          NaN  \n",
      "26          NaN  \n",
      "27          NaN  \n",
      "28          NaN  \n",
      "29          NaN  \n",
      "30          NaN  \n",
      "31          NaN  \n",
      "32          NaN  \n",
      "33          NaN  \n",
      "34          NaN  \n",
      "35          NaN  \n",
      "36          NaN  \n",
      "37          NaN  \n",
      "38          NaN  \n",
      "39          NaN  \n",
      "40          NaN  \n",
      "41          NaN  \n",
      "42          NaN  \n",
      "43          NaN  \n",
      "44          NaN  \n",
      "45          NaN  \n",
      "46          NaN  \n",
      "47          NaN  \n",
      "48          NaN  \n",
      "49          NaN  \n"
     ]
    }
   ],
   "source": [
    "print(dataset.head(50))"
   ]
  },
  {
   "cell_type": "code",
   "execution_count": 25,
   "metadata": {},
   "outputs": [
    {
     "name": "stdout",
     "output_type": "stream",
     "text": [
      "       sepal-area  sepal-width  petal-length  petal-width  description\n",
      "count  150.000000   150.000000    150.000000   150.000000          0.0\n",
      "mean     5.843333     3.054000      3.758667     1.198667          NaN\n",
      "std      0.828066     0.433594      1.764420     0.763161          NaN\n",
      "min      4.300000     2.000000      1.000000     0.100000          NaN\n",
      "25%      5.100000     2.800000      1.600000     0.300000          NaN\n",
      "50%      5.800000     3.000000      4.350000     1.300000          NaN\n",
      "75%      6.400000     3.300000      5.100000     1.800000          NaN\n",
      "max      7.900000     4.400000      6.900000     2.500000          NaN\n"
     ]
    }
   ],
   "source": [
    "print(dataset.describe())"
   ]
  },
  {
   "cell_type": "code",
   "execution_count": 26,
   "metadata": {},
   "outputs": [
    {
     "name": "stdout",
     "output_type": "stream",
     "text": [
      "class\n",
      "Iris-setosa        50\n",
      "Iris-versicolor    50\n",
      "Iris-virginica     50\n",
      "dtype: int64\n"
     ]
    }
   ],
   "source": [
    "print(dataset.groupby('class').size())"
   ]
  },
  {
   "cell_type": "code",
   "execution_count": null,
   "metadata": {},
   "outputs": [],
   "source": []
  }
 ],
 "metadata": {
  "kernelspec": {
   "display_name": "base",
   "language": "python",
   "name": "python3"
  },
  "language_info": {
   "codemirror_mode": {
    "name": "ipython",
    "version": 3
   },
   "file_extension": ".py",
   "mimetype": "text/x-python",
   "name": "python",
   "nbconvert_exporter": "python",
   "pygments_lexer": "ipython3",
   "version": "3.12.7"
  }
 },
 "nbformat": 4,
 "nbformat_minor": 2
}
