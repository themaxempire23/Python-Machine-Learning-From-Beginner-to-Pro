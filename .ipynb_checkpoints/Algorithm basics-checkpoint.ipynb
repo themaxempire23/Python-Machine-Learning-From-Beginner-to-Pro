{
 "cells": [
  {
   "cell_type": "code",
   "execution_count": 1,
   "id": "f7b35786-2529-4947-96e0-0622b9488a54",
   "metadata": {},
   "outputs": [],
   "source": [
    "from sklearn import datasets"
   ]
  },
  {
   "cell_type": "code",
   "execution_count": 2,
   "id": "626fb02b-9f20-4cd0-81db-4e46023263ec",
   "metadata": {},
   "outputs": [],
   "source": [
    "iris_datasets = datasets.load_iris()"
   ]
  },
  {
   "cell_type": "code",
   "execution_count": 3,
   "id": "3a9d7b37-c956-4ba4-8974-c82a910418dd",
   "metadata": {},
   "outputs": [],
   "source": [
    "X = iris_datasets.data[:,:2]"
   ]
  },
  {
   "cell_type": "code",
   "execution_count": 4,
   "id": "989367d4-e629-408d-941f-ca84789cef4a",
   "metadata": {},
   "outputs": [],
   "source": [
    "x_count = len(X.flat)\n",
    "x_min = X[:, 0].min() - .6\n",
    "x_max = X[:, 0].max() + .6"
   ]
  },
  {
   "cell_type": "code",
   "execution_count": 5,
   "id": "9cb6ca8f-d966-414e-84d5-a71c226a66e0",
   "metadata": {},
   "outputs": [
    {
     "data": {
      "text/plain": [
       "(300, 3.6999999999999997, 8.5)"
      ]
     },
     "execution_count": 5,
     "metadata": {},
     "output_type": "execute_result"
    }
   ],
   "source": [
    "x_count, x_min, x_max"
   ]
  },
  {
   "cell_type": "code",
   "execution_count": 6,
   "id": "c9d38ae4-6370-49df-8985-82aeaccee3f4",
   "metadata": {},
   "outputs": [
    {
     "data": {
      "text/plain": [
       "300"
      ]
     },
     "execution_count": 6,
     "metadata": {},
     "output_type": "execute_result"
    }
   ],
   "source": [
    "x_count"
   ]
  },
  {
   "cell_type": "code",
   "execution_count": 7,
   "id": "78bccd97-1d09-4f83-becc-96ff666abe2d",
   "metadata": {},
   "outputs": [
    {
     "data": {
      "text/plain": [
       "3.6999999999999997"
      ]
     },
     "execution_count": 7,
     "metadata": {},
     "output_type": "execute_result"
    }
   ],
   "source": [
    "x_min"
   ]
  },
  {
   "cell_type": "code",
   "execution_count": 8,
   "id": "47f7ef2d-5395-4565-8ff6-1e0488eba1e9",
   "metadata": {},
   "outputs": [
    {
     "data": {
      "text/plain": [
       "8.5"
      ]
     },
     "execution_count": 8,
     "metadata": {},
     "output_type": "execute_result"
    }
   ],
   "source": [
    "x_max"
   ]
  },
  {
   "cell_type": "code",
   "execution_count": null,
   "id": "275c9e1e-d8c9-4ac8-8d7f-943eb2f4c734",
   "metadata": {},
   "outputs": [],
   "source": []
  }
 ],
 "metadata": {
  "kernelspec": {
   "display_name": "Python 3 (ipykernel)",
   "language": "python",
   "name": "python3"
  },
  "language_info": {
   "codemirror_mode": {
    "name": "ipython",
    "version": 3
   },
   "file_extension": ".py",
   "mimetype": "text/x-python",
   "name": "python",
   "nbconvert_exporter": "python",
   "pygments_lexer": "ipython3",
   "version": "3.11.5"
  }
 },
 "nbformat": 4,
 "nbformat_minor": 5
}
